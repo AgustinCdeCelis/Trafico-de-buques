{
 "cells": [
  {
   "cell_type": "code",
   "execution_count": null,
   "metadata": {},
   "outputs": [],
   "source": [
    "import pandas as pd\n",
    "import numpy as np\n",
    "import matplotlib.pyplot as plt\n",
    "import seaborn as sns\n"
   ]
  },
  {
   "cell_type": "code",
   "execution_count": null,
   "metadata": {},
   "outputs": [],
   "source": [
    "df_2016= pd.read_csv(r'C:\\Users\\LENOVO\\Desktop\\programacion\\buques\\data\\buques-pasajeros-2016.csv',encoding='latin-1')\n",
    "\n",
    "df_2016\n",
    "\n",
    "\n"
   ]
  },
  {
   "cell_type": "code",
   "execution_count": null,
   "metadata": {},
   "outputs": [],
   "source": [
    "df_2017 = pd.read_csv(r'data\\buques-pasajeros-2017.csv',encoding='latin-1')\n",
    "\n",
    "df_2017"
   ]
  },
  {
   "cell_type": "code",
   "execution_count": null,
   "metadata": {},
   "outputs": [],
   "source": [
    "df_2018 = pd.read_csv(r'data\\buques-pasajeros-2018.csv',encoding='latin-1')\n",
    "df_2018"
   ]
  },
  {
   "cell_type": "code",
   "execution_count": null,
   "metadata": {},
   "outputs": [],
   "source": [
    "df_2019= pd.read_csv(r'data\\buques-pasajeros-2019.csv',encoding='latin-1') \n",
    "df_2019"
   ]
  },
  {
   "cell_type": "code",
   "execution_count": null,
   "metadata": {},
   "outputs": [],
   "source": [
    "df_2020=pd.read_csv(r'data\\buques-pasajeros-2020.csv',encoding='latin-1')\n",
    "\n",
    "df_2020"
   ]
  },
  {
   "cell_type": "code",
   "execution_count": null,
   "metadata": {},
   "outputs": [],
   "source": [
    "df_2021=pd.read_csv(r'data\\buques-pasajeros-2021.csv',encoding='latin-1')\n",
    "df_2021"
   ]
  },
  {
   "cell_type": "code",
   "execution_count": null,
   "metadata": {},
   "outputs": [],
   "source": [
    "df = pd.concat([df_2016,df_2017,df_2018,df_2019,df_2020,df_2021])\n",
    "\n",
    "df"
   ]
  },
  {
   "cell_type": "code",
   "execution_count": null,
   "metadata": {},
   "outputs": [],
   "source": [
    "df.isnull().sum()"
   ]
  },
  {
   "cell_type": "code",
   "execution_count": null,
   "metadata": {},
   "outputs": [],
   "source": [
    "df[df.duplicated()]"
   ]
  },
  {
   "cell_type": "code",
   "execution_count": null,
   "metadata": {},
   "outputs": [],
   "source": [
    "df.drop_duplicates(keep=False, inplace=True)\n",
    "\n",
    "df"
   ]
  },
  {
   "cell_type": "code",
   "execution_count": null,
   "metadata": {},
   "outputs": [],
   "source": [
    "df.describe().apply(lambda s: s.apply('{0:.3f}'.format))"
   ]
  },
  {
   "cell_type": "code",
   "execution_count": null,
   "metadata": {},
   "outputs": [],
   "source": [
    "df['buque'].nunique()"
   ]
  },
  {
   "cell_type": "code",
   "execution_count": null,
   "metadata": {},
   "outputs": [],
   "source": [
    "df['imo'].nunique()"
   ]
  },
  {
   "cell_type": "code",
   "execution_count": null,
   "metadata": {},
   "outputs": [],
   "source": [
    "df['buque'].value_counts().loc[lambda x: x>100]"
   ]
  },
  {
   "cell_type": "code",
   "execution_count": null,
   "metadata": {},
   "outputs": [],
   "source": [
    "df['puerto'].value_counts()"
   ]
  },
  {
   "cell_type": "code",
   "execution_count": null,
   "metadata": {},
   "outputs": [],
   "source": [
    "df['sentido'].value_counts()"
   ]
  },
  {
   "cell_type": "code",
   "execution_count": null,
   "metadata": {},
   "outputs": [],
   "source": [
    "df['servicio'].value_counts()"
   ]
  },
  {
   "cell_type": "code",
   "execution_count": null,
   "metadata": {},
   "outputs": [],
   "source": [
    "df['anio'].value_counts()"
   ]
  },
  {
   "cell_type": "code",
   "execution_count": null,
   "metadata": {},
   "outputs": [],
   "source": [
    "df['cantidad_dias'] = df['fecha'].rank(method='dense').astype(int)\n",
    "\n",
    "df"
   ]
  },
  {
   "cell_type": "code",
   "execution_count": null,
   "metadata": {},
   "outputs": [],
   "source": [
    "carga=df[df['servicio']=='Carga']\n",
    "\n",
    "index=df['servicio'].value_counts().index\n",
    "\n",
    "values=df['servicio'].value_counts().values"
   ]
  },
  {
   "cell_type": "code",
   "execution_count": null,
   "metadata": {},
   "outputs": [],
   "source": [
    "palette=['darkblue','lightblue']\n",
    "\n",
    "fig, ax= plt.subplots(nrows=1, ncols=2, figsize=(8,4))\n",
    "\n",
    "\n",
    "sns.countplot(ax=ax[0],x=df['servicio'],palette=palette,linewidth=2.5, edgecolor=\".2\")\n",
    "ax[0].set_title('Tipo de servicio',size=12,weight='bold',pad=20)\n",
    "ax[0].spines[['right', 'top', 'left','bottom']].set_visible(False)\n",
    "ax[0].set_ylabel(None)\n",
    "ax[0].set_xlabel(None)\n",
    "ax[0].tick_params(labelleft=False, left=False,labelsize=12)\n",
    "\n",
    "\n",
    "for i in ax[0].containers:\n",
    "    ax[0].bar_label(i,fontsize=12);\n",
    "    \n",
    "    \n",
    "    \n",
    "plt.pie(values, labels = index, autopct='%.0f%%' ,colors=['darkblue','lightblue'],wedgeprops={\"edgecolor\":\"0\",'linewidth': 2.5,\n",
    "                    'antialiased': True},startangle=90,textprops={'fontsize': 12})\n",
    "ax[1].set_title('Porcentaje de tipo de servicio',size=12,weight='bold',pad=20);"
   ]
  },
  {
   "cell_type": "code",
   "execution_count": null,
   "metadata": {},
   "outputs": [],
   "source": [
    "plt.rcParams['figure.figsize']= 8,4\n",
    "\n",
    "palette=['darkred','red','darkorange','goldenrod','khaki','yellow']\n",
    "plt.rcParams['axes.spines.left'] = True\n",
    "#plt.rcParams['axes.spines.right'] = False\n",
    "#plt.rcParams['axes.spines.top'] = False\n",
    "plt.rcParams['axes.spines.bottom'] = True\n",
    "plt.title(\"Tipo de servicio por año\",size=12,weight='bold',pad=20)\n",
    "sns.countplot(data=df,x='servicio',hue='anio',linewidth=1.5, edgecolor=\".2\",palette=palette)\n",
    "plt.xlabel(None)\n",
    "plt.ylabel(None)\n",
    "\n",
    "plt.show()"
   ]
  },
  {
   "cell_type": "code",
   "execution_count": null,
   "metadata": {},
   "outputs": [],
   "source": [
    "df['puerto'].value_counts()"
   ]
  },
  {
   "cell_type": "code",
   "execution_count": null,
   "metadata": {},
   "outputs": [],
   "source": [
    "df['fecha']= pd.to_datetime(df['fecha']).dt.date\n",
    "\n",
    "df['mes'] = pd.to_datetime(df['fecha']).dt.month\n",
    "\n",
    "df['año'] = pd.to_datetime(df['fecha']).dt.year\n",
    "\n",
    "df['dia_semana'] = pd.to_datetime(df['fecha']).dt.weekday\n",
    "\n",
    "df['semana_año'] = pd.to_datetime(df['fecha']).dt.isocalendar().week\n",
    "\n",
    "df['dia'] = pd.to_datetime(df['fecha']).dt.day\n",
    "\n",
    "df['dayofyear'] =pd.to_datetime(df['fecha']).dt.dayofyear"
   ]
  },
  {
   "cell_type": "code",
   "execution_count": null,
   "metadata": {},
   "outputs": [],
   "source": [
    "df"
   ]
  },
  {
   "cell_type": "code",
   "execution_count": null,
   "metadata": {},
   "outputs": [],
   "source": [
    "colonia = df[df['puerto']=='COLONIA EXPRESS BAIRES']\n",
    "rou_colonia = df[df['puerto']=='ROU - COLONIA']\n",
    "buquebus = df[ df['puerto']=='BUQUEBUS']\n",
    "puerto_bsas = df[df['puerto']=='PUERTO BUENOS AIRES']\n",
    "rou_montevideo = df[df['puerto']== 'ROU - MONTEVIDEO']\n",
    "terminal = df[df['puerto']== 'TERMINAL CRUCEROS PTO. BS. AS.']\n",
    "\n",
    "str_list = ['2016','2017','2018','2019','2020','2021']\n",
    "\n",
    "fig, ax= plt.subplots(nrows=2, ncols=3, figsize=(10,5))\n",
    "\n",
    "plt.suptitle('Cantidad de pasajeros por año desde enero de 2016 a octubre de 2021',size=12,weight='bold')\n",
    "\n",
    "#PUERTO COLONIA EXPRESS BAIRES\n",
    "\n",
    "sns.scatterplot(data=colonia, x='cantidad_dias',y='pax',ax=ax[0,0])\n",
    "ax[0,0].set_title('Puerto: Colonia-Express Baires',size=8,weight='bold',pad=20)\n",
    "#ax[0].spines[['right', 'top', 'left','bottom']].set_visible(False)\n",
    "ax[0,0].set_ylabel(None)\n",
    "ax[0,0].set_xlabel(None)\n",
    "ax[0,0].set_xticks([0,365,730,1095,1460,1825])\n",
    "ax[0,0].set_xticklabels(str_list)\n",
    "ax[0,0].set_yticks([0,500,1000,2000])\n",
    "#ax[0].tick_params(labelleft=False, left=False,labelsize=12)\n",
    "\n",
    "#PUERTO ROU-COLONIA\n",
    "sns.scatterplot(data=rou_colonia, x='cantidad_dias',y='pax',ax=ax[0,1],color='purple')\n",
    "\n",
    "ax[0,1].set_title('Puerto: Rou-Colonia',size=8,weight='bold',pad=20)\n",
    "#ax[0].spines[['right', 'top', 'left','bottom']].set_visible(False)\n",
    "ax[0,1].set_ylabel(None)\n",
    "ax[0,1].set_xlabel(None)\n",
    "ax[0,1].set_xticks([0,365,730,1095,1460,1825])\n",
    "ax[0,1].set_xticklabels(str_list)\n",
    "ax[0,1].set_yticks([0,500,1000,2000])\n",
    "#ax[0].tick_params(labelleft=False, left=False,labelsize=12)\n",
    "\n",
    "\n",
    "\n",
    "#PUERTO BUQUEBUS\n",
    "sns.scatterplot(data=buquebus, x='cantidad_dias',y='pax',ax=ax[0,2],color='darkred')\n",
    "ax[0,2].set_title('Puerto: Buquebus',size=8,weight='bold',pad=20)\n",
    "#ax[0].spines[['right', 'top', 'left','bottom']].set_visible(False)\n",
    "ax[0,2].set_ylabel(None)\n",
    "ax[0,2].set_xlabel(None)\n",
    "ax[0,2].set_xticks([0,365,730,1095,1460,1825])\n",
    "ax[0,2].set_xticklabels(str_list)\n",
    "ax[0,2].set_yticks([0,500,1000,2000])\n",
    "#ax[0].tick_params(labelleft=False, left=False,labelsize=12)\n",
    "\n",
    "\n",
    "\n",
    "\n",
    "#PUERTO BUENOS AIRES\n",
    "sns.scatterplot(data=puerto_bsas, x='cantidad_dias',y='pax',ax=ax[1,0],color='darkblue')\n",
    "ax[1,0].set_title('Puerto: Buenos Aires',size=8,weight='bold',pad=20)\n",
    "#ax[0].spines[['right', 'top', 'left','bottom']].set_visible(False)\n",
    "ax[1,0].set_ylabel(None)\n",
    "ax[1,0].set_xlabel(None)\n",
    "ax[1,0].set_xticks([0,365,730,1095,1460,1825])\n",
    "ax[1,0].set_xticklabels(str_list)\n",
    "#ax[0].tick_params(labelleft=False, left=False,labelsize=12)\n",
    "\n",
    "\n",
    "\n",
    "#PUERTO ROU-MONTEVIDEO\n",
    "sns.scatterplot(data=rou_montevideo, x='cantidad_dias',y='pax',ax=ax[1,1],color='darkgreen')\n",
    "ax[1,1].set_title('Puerto: Rou-Montevideo',size=8,weight='bold',pad=20)\n",
    "#ax[0].spines[['right', 'top', 'left','bottom']].set_visible(False)\n",
    "ax[1,1].set_ylabel(None)\n",
    "ax[1,1].set_xlabel(None)\n",
    "ax[1,1].set_xticks([0,365,730,1095,1460,1825])\n",
    "ax[1,1].set_yticks([0,500,1000,2000])\n",
    "ax[1,1].set_xticklabels(str_list)\n",
    "#ax[0].tick_params(labelleft=False, left=False,labelsize=12)\n",
    "\n",
    "\n",
    "\n",
    "\n",
    "#PUERTO ROU-MONTEVIDEO\n",
    "sns.scatterplot(data=terminal, x='cantidad_dias',y='pax',ax=ax[1,2],color='red')\n",
    "\n",
    "ax[1,2].set_title('Puerto: Rou-Montevideo',size=8,weight='bold')\n",
    "#ax[0].spines[['right', 'top', 'left','bottom']].set_visible(False)\n",
    "ax[1,2].set_ylabel(None)\n",
    "ax[1,2].set_xlabel(None)\n",
    "ax[1,2].set_xticks([0,365,730,1095,1460,1825])\n",
    "ax[1,2].set_xticklabels(str_list)\n",
    "ax[1,2].set_yticks([0,2000,4000])\n",
    "#ax[0].tick_params(labelleft=False, left=False,labelsize=12)\n",
    "#plt.legend(loc='center left', bbox_to_anchor=(1, 0.5))\n",
    "\n",
    "fig.tight_layout()\n"
   ]
  },
  {
   "cell_type": "code",
   "execution_count": null,
   "metadata": {},
   "outputs": [],
   "source": [
    "terminal['mes'].value_counts()"
   ]
  },
  {
   "cell_type": "code",
   "execution_count": null,
   "metadata": {},
   "outputs": [],
   "source": [
    "terminal['servicio'].value_counts()"
   ]
  },
  {
   "cell_type": "code",
   "execution_count": null,
   "metadata": {},
   "outputs": [],
   "source": [
    "mes_codigo= {1:'enero',2:'febrero',3:'marzo',4:'abril',5:'mayo',6:'junio',\n",
    "             7:'julio',8:'agosto',9:'septiembre',10:'octubre',11:'noviembre',12:'diciembre'}\n",
    "\n",
    "df['mes'] = df['mes'].map(mes_codigo)"
   ]
  },
  {
   "cell_type": "code",
   "execution_count": null,
   "metadata": {},
   "outputs": [],
   "source": [
    "plt.title(\"Variación mensual por año de cantidad de viajes\",size=12,weight='bold',pad=20)\n",
    "sns.countplot(data=df,x='anio',hue='mes',linewidth=0.5, edgecolor=\".2\")\n",
    "plt.legend(bbox_to_anchor=(1.1, 1.05))\n",
    "plt.xlabel(None)\n",
    "plt.ylabel('Cantidad de viajes')\n",
    "\n",
    "plt.show()"
   ]
  }
 ],
 "metadata": {
  "kernelspec": {
   "display_name": "Python 3.10.4 64-bit",
   "language": "python",
   "name": "python3"
  },
  "language_info": {
   "codemirror_mode": {
    "name": "ipython",
    "version": 3
   },
   "file_extension": ".py",
   "mimetype": "text/x-python",
   "name": "python",
   "nbconvert_exporter": "python",
   "pygments_lexer": "ipython3",
   "version": "3.10.4"
  },
  "orig_nbformat": 4,
  "vscode": {
   "interpreter": {
    "hash": "f2ccb58c476f33ba3e3aee7ac07234ef6b8217ef24ad64d2a7d4fed1a57c1cd2"
   }
  }
 },
 "nbformat": 4,
 "nbformat_minor": 2
}
